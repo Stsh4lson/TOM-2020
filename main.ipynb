{
 "cells": [
  {
   "cell_type": "code",
   "execution_count": 1,
   "metadata": {},
   "outputs": [],
   "source": [
    "import cv2\n",
    "import matplotlib\n",
    "import matplotlib.pyplot as plt\n",
    "import numpy as np\n",
    "import nibabel as nib\n",
    "from starter_code.visualize import visualize\n",
    "from starter_code.utils import load_case\n",
    "\n",
    "import tensorflow as tf"
   ]
  },
  {
   "cell_type": "code",
   "execution_count": 2,
   "metadata": {},
   "outputs": [],
   "source": [
    "volume, segmentation = load_case(123)\n",
    "X = volume.get_data()\n",
    "y = segmentation.get_data()\n",
    "\n",
    "IMG_WIDTH = X.shape[2]\n",
    "IMG_HEIGHT = X.shape[1]\n",
    "IMG_SLICES = X.shape[0]\n",
    "# X = np.expand_dims(X, 3)\n",
    "\n",
    "\n",
    "# y = tf.keras.utils.to_categorical(y)"
   ]
  },
  {
   "cell_type": "code",
   "execution_count": 3,
   "metadata": {},
   "outputs": [],
   "source": [
    "from NeuralNetwork import *\n",
    "model = makeModel(IMG_WIDTH, IMG_HEIGHT, 1)\n",
    "model.compile(optimizer='adam', loss='categorical_crossentropy', metrics=['accuracy'])"
   ]
  },
  {
   "cell_type": "code",
   "execution_count": 4,
   "metadata": {},
   "outputs": [],
   "source": [
    "checkpointer = tf.keras.callbacks.ModelCheckpoint('model1.h5', verbose=1, save_best_only=True)\n",
    "\n",
    "callbacks = [\n",
    "    tf.keras.callbacks.EarlyStopping(patience=5, monitor='accuracy'),\n",
    "    tf.keras.callbacks.TensorBoard(log_dir='logs')\n",
    "]\n"
   ]
  },
  {
   "cell_type": "code",
   "execution_count": 5,
   "metadata": {},
   "outputs": [
    {
     "output_type": "stream",
     "name": "stdout",
     "text": "Train on 611 samples\nEpoch 1/4\n611/611 [==============================] - 30s 49ms/sample - loss: 0.7871 - accuracy: 0.8694\nEpoch 2/4\n611/611 [==============================] - 23s 38ms/sample - loss: 0.0234 - accuracy: 0.9941\nEpoch 3/4\n611/611 [==============================] - 23s 38ms/sample - loss: 0.0149 - accuracy: 0.9941\nEpoch 4/4\n611/611 [==============================] - 23s 38ms/sample - loss: 0.0112 - accuracy: 0.9941\nTrain on 602 samples\nEpoch 1/4\n602/602 [==============================] - 26s 42ms/sample - loss: 0.0169 - accuracy: 0.9904\nEpoch 2/4\n602/602 [==============================] - 23s 38ms/sample - loss: 0.0124 - accuracy: 0.9904\nEpoch 3/4\n602/602 [==============================] - 23s 38ms/sample - loss: 0.0116 - accuracy: 0.9905\nEpoch 4/4\n602/602 [==============================] - 23s 38ms/sample - loss: 0.0110 - accuracy: 0.9906\nTrain on 261 samples\nEpoch 1/4\n261/261 [==============================] - 12s 46ms/sample - loss: 0.0408 - accuracy: 0.9902\nEpoch 2/4\n261/261 [==============================] - 10s 38ms/sample - loss: 0.0218 - accuracy: 0.9904\nEpoch 3/4\n261/261 [==============================] - 10s 38ms/sample - loss: 0.0177 - accuracy: 0.9904\nEpoch 4/4\n261/261 [==============================] - 10s 38ms/sample - loss: 0.0141 - accuracy: 0.9906\nTrain on 270 samples\nEpoch 1/4\n270/270 [==============================] - 13s 49ms/sample - loss: 0.0306 - accuracy: 0.9920\nEpoch 2/4\n270/270 [==============================] - 10s 38ms/sample - loss: 0.0126 - accuracy: 0.9922\nEpoch 3/4\n270/270 [==============================] - 10s 38ms/sample - loss: 0.0099 - accuracy: 0.9925\nEpoch 4/4\n270/270 [==============================] - 10s 38ms/sample - loss: 0.0086 - accuracy: 0.9932\nTrain on 64 samples\nEpoch 1/4\n64/64 [==============================] - 4s 67ms/sample - loss: 0.0550 - accuracy: 0.9926\nEpoch 2/4\n64/64 [==============================] - 2s 39ms/sample - loss: 0.0272 - accuracy: 0.9927\nEpoch 3/4\n64/64 [==============================] - 3s 39ms/sample - loss: 0.0213 - accuracy: 0.9928\nEpoch 4/4\n64/64 [==============================] - 3s 40ms/sample - loss: 0.0193 - accuracy: 0.9929\nTrain on 834 samples\nEpoch 1/4\n834/834 [==============================] - 33s 39ms/sample - loss: 0.0133 - accuracy: 0.9953\nEpoch 2/4\n834/834 [==============================] - 31s 38ms/sample - loss: 0.0078 - accuracy: 0.9956\nEpoch 3/4\n834/834 [==============================] - 31s 38ms/sample - loss: 0.0070 - accuracy: 0.9960\nEpoch 4/4\n834/834 [==============================] - 31s 37ms/sample - loss: 0.0063 - accuracy: 0.9965\nTrain on 157 samples\nEpoch 1/4\n157/157 [==============================] - 9s 58ms/sample - loss: 0.0367 - accuracy: 0.9900\nEpoch 2/4\n157/157 [==============================] - 6s 37ms/sample - loss: 0.0181 - accuracy: 0.9939\nEpoch 3/4\n157/157 [==============================] - 6s 38ms/sample - loss: 0.0143 - accuracy: 0.9939\nEpoch 4/4\n157/157 [==============================] - 6s 38ms/sample - loss: 0.0119 - accuracy: 0.9940\nTrain on 61 samples\nEpoch 1/4\n61/61 [==============================] - 2s 40ms/sample - loss: 0.0445 - accuracy: 0.9867\nEpoch 2/4\n61/61 [==============================] - 2s 38ms/sample - loss: 0.0344 - accuracy: 0.9867\nEpoch 3/4\n61/61 [==============================] - 2s 38ms/sample - loss: 0.0312 - accuracy: 0.9866\nEpoch 4/4\n61/61 [==============================] - 2s 39ms/sample - loss: 0.0245 - accuracy: 0.9869\nTrain on 227 samples\nEpoch 1/4\n227/227 [==============================] - 9s 38ms/sample - loss: 0.0380 - accuracy: 0.9906\nEpoch 2/4\n227/227 [==============================] - 9s 39ms/sample - loss: 0.0231 - accuracy: 0.9908\nEpoch 3/4\n227/227 [==============================] - 9s 38ms/sample - loss: 0.0191 - accuracy: 0.9908\nEpoch 4/4\n227/227 [==============================] - 9s 39ms/sample - loss: 0.0169 - accuracy: 0.9909\nTrain on 77 samples\nEpoch 1/4\n77/77 [==============================] - 3s 38ms/sample - loss: 0.0452 - accuracy: 0.9919\nEpoch 2/4\n77/77 [==============================] - 3s 38ms/sample - loss: 0.0249 - accuracy: 0.9918\nEpoch 3/4\n77/77 [==============================] - 3s 37ms/sample - loss: 0.0184 - accuracy: 0.9919\nEpoch 4/4\n77/77 [==============================] - 3s 37ms/sample - loss: 0.0164 - accuracy: 0.9919\n"
    }
   ],
   "source": [
    "for n_img in np.arange(0, 10, 1):\n",
    "    volume, segmentation = load_case(n_img)\n",
    "    X = volume.get_data()\n",
    "    y = segmentation.get_data()\n",
    "    X = np.expand_dims(X, 3)\n",
    "    y = tf.keras.utils.to_categorical(y)\n",
    "    results = model.fit(X, y, batch_size=16, epochs=4, callbacks=callbacks, verbose=1)"
   ]
  },
  {
   "cell_type": "code",
   "execution_count": 6,
   "metadata": {},
   "outputs": [],
   "source": [
    "predicted = model.predict(X)"
   ]
  },
  {
   "cell_type": "code",
   "execution_count": 7,
   "metadata": {},
   "outputs": [
    {
     "output_type": "stream",
     "name": "stdout",
     "text": "0.28460273\n"
    }
   ],
   "source": [
    "print(np.max(predicted[:,:,:,]))"
   ]
  },
  {
   "cell_type": "code",
   "execution_count": 18,
   "metadata": {},
   "outputs": [],
   "source": [
    "def dice_score(y_pred, y_test):\n",
    "    return np.sum(y_pred)*2.0 / (np.sum(y_pred) + np.sum(y_test))"
   ]
  },
  {
   "cell_type": "code",
   "execution_count": 23,
   "metadata": {},
   "outputs": [
    {
     "output_type": "execute_result",
     "data": {
      "text/plain": "1.0000662270509035"
     },
     "metadata": {},
     "execution_count": 23
    }
   ],
   "source": [
    "dice_score(predicted[:,:,:,0], y[:,:,:,0])"
   ]
  },
  {
   "cell_type": "code",
   "execution_count": 24,
   "metadata": {},
   "outputs": [],
   "source": [
    "%matplotlib qt\n",
    "from visualizeSlider import *\n",
    "cube_show_slider(cube=predicted[:,:,:,1], axis=0, cmap='gray')"
   ]
  },
  {
   "cell_type": "code",
   "execution_count": null,
   "metadata": {},
   "outputs": [],
   "source": []
  }
 ],
 "metadata": {
  "language_info": {
   "codemirror_mode": {
    "name": "ipython",
    "version": 3
   },
   "file_extension": ".py",
   "mimetype": "text/x-python",
   "name": "python",
   "nbconvert_exporter": "python",
   "pygments_lexer": "ipython3",
   "version": "3.7.7-final"
  },
  "orig_nbformat": 2,
  "kernelspec": {
   "name": "python3",
   "display_name": "Python 3"
  }
 },
 "nbformat": 4,
 "nbformat_minor": 2
}