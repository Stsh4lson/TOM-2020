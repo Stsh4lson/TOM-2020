{
 "cells": [
  {
   "cell_type": "code",
   "execution_count": null,
   "metadata": {},
   "outputs": [],
   "source": [
    "import cv2\n",
    "import matplotlib\n",
    "import matplotlib.pyplot as plt\n",
    "import numpy as np\n",
    "import nibabel as nib\n",
    "from tqdm import tqdm\n",
    "import tensorflow as tf\n",
    "from sklearn.preprocessing import MinMaxScaler\n",
    "\n",
    "#ktis19 modules\n",
    "from starter_code.visualize import visualize\n",
    "from starter_code.utils import load_case\n",
    "\n",
    "#own modules\n",
    "    #architecture of network\n",
    "from modules.NeuralNetwork import makeModel\n",
    "    #simple matplotlib visualizer with slider\n",
    "from modules.visualizeSlider import cube_show_slider\n",
    "    #preprocessing for data \n",
    "    #REDUNDANT - USED ONLY IN DATA GENERATORS\n",
    "from modules.preprocessing import preprocess_X, preprocess_y, scale\n",
    "    #data flow generators\n",
    "from modules.dataGenerators import trainGenerator, validationGenerator\n",
    "\n",
    "#changing to half precision due to memory limitations\n",
    "import keras.backend as K\n",
    "# K.set_floatx('float16')\n",
    "# K.set_epsilon(1e-4)"
   ]
  },
  {
   "cell_type": "code",
   "execution_count": null,
   "metadata": {},
   "outputs": [],
   "source": [
    "model = makeModel(512, 512, 2)\n",
    "model.compile(optimizer='adam', loss='categorical_crossentropy', metrics=['accuracy'])"
   ]
  },
  {
   "cell_type": "code",
   "execution_count": null,
   "metadata": {},
   "outputs": [],
   "source": [
    "callbacks = [\n",
    "    tf.keras.callbacks.EarlyStopping(patience=5, monitor='accuracy'),\n",
    "    tf.keras.callbacks.TensorBoard(log_dir='logs'),\n",
    "    tf.keras.callbacks.ModelCheckpoint('saved_models/model1.h5', verbose=1, save_best_only=True)\n",
    "]"
   ]
  },
  {
   "cell_type": "markdown",
   "metadata": {},
   "source": [
    "0-179 Train set, 180-209 val_set, 210-299 test"
   ]
  },
  {
   "cell_type": "code",
   "execution_count": null,
   "metadata": {},
   "outputs": [],
   "source": [
    "case_numbers = np.delete(np.arange(0, 209, 1), [158, 159, 170, 202])\n",
    "case_numbers_val = case_numbers[179:]\n",
    "case_numbers_train = case_numbers[:179]"
   ]
  },
  {
   "cell_type": "markdown",
   "metadata": {},
   "source": [
    "AMOUNT OF SLICES FOR TRAINDATA == 38650"
   ]
  },
  {
   "cell_type": "code",
   "execution_count": null,
   "metadata": {},
   "outputs": [],
   "source": [
    "batch_size = 16\n",
    "data_size = 38650\n",
    "results = model.fit(\n",
    "    trainGenerator(case_numbers_train[:3], batch_size),\n",
    "    steps_per_epoch = data_size/batch_size,\n",
    "    epochs = 32,\n",
    "    callbacks = callbacks,\n",
    "    verbose = 1,\n",
    "    validation_data = validationGenerator(case_numbers_val, batch_size)\n",
    "    )"
   ]
  },
  {
   "cell_type": "code",
   "execution_count": null,
   "metadata": {},
   "outputs": [],
   "source": [
    "model.save('saved_models\\model_big_4_test')"
   ]
  },
  {
   "cell_type": "code",
   "execution_count": null,
   "metadata": {},
   "outputs": [],
   "source": [
    "predicted = model.predict(X)\n",
    "\n",
    "def dice_score(y_pred, y_test):\n",
    "    return np.sum(y_pred)*2.0 / (np.sum(y_pred) + np.sum(y_test))\n",
    "    \n",
    "dice_score(predicted[:,:,:,1], y[:,:,:,1])"
   ]
  },
  {
   "cell_type": "code",
   "execution_count": null,
   "metadata": {},
   "outputs": [],
   "source": [
    "%matplotlib qt\n",
    "cube_show_slider(cube=predicted[:,:,:,0], axis=0, cmap='gray')"
   ]
  }
 ],
 "metadata": {
  "language_info": {
   "codemirror_mode": {
    "name": "ipython",
    "version": 3
   },
   "file_extension": ".py",
   "mimetype": "text/x-python",
   "name": "python",
   "nbconvert_exporter": "python",
   "pygments_lexer": "ipython3",
   "version": "3.7.7-final"
  },
  "orig_nbformat": 2,
  "kernelspec": {
   "name": "python3",
   "display_name": "Python 3"
  }
 },
 "nbformat": 4,
 "nbformat_minor": 2
}